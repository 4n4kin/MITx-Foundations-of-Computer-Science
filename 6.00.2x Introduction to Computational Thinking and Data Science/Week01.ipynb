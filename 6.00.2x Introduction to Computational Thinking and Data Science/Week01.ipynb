{
 "cells": [
  {
   "cell_type": "markdown",
   "metadata": {},
   "source": [
    "##Week 01 : Computational thinking & Data Science##"
   ]
  },
  {
   "cell_type": "markdown",
   "metadata": {},
   "source": [
    "###L1 : PROBLEM 1###"
   ]
  },
  {
   "cell_type": "code",
   "execution_count": 1,
   "metadata": {
    "collapsed": true
   },
   "outputs": [],
   "source": [
    "def isAlphabeticalWord(word, wordList):\n",
    "    if (len(word) > 0):\n",
    "        curr = word[0]\n",
    "    for letter in word:\n",
    "        if (curr > letter):\n",
    "            return False\n",
    "        else:\n",
    "            curr = letter\n",
    "    if wordList is None:\n",
    "        return True\n",
    "    return word in wordList"
   ]
  },
  {
   "cell_type": "code",
   "execution_count": null,
   "metadata": {
    "collapsed": true
   },
   "outputs": [],
   "source": [
    "isAlphabeticalWord("
   ]
  }
 ],
 "metadata": {
  "kernelspec": {
   "display_name": "Python 2",
   "language": "python",
   "name": "python2"
  },
  "language_info": {
   "codemirror_mode": {
    "name": "ipython",
    "version": 2
   },
   "file_extension": ".py",
   "mimetype": "text/x-python",
   "name": "python",
   "nbconvert_exporter": "python",
   "pygments_lexer": "ipython2",
   "version": "2.7.6"
  }
 },
 "nbformat": 4,
 "nbformat_minor": 0
}
