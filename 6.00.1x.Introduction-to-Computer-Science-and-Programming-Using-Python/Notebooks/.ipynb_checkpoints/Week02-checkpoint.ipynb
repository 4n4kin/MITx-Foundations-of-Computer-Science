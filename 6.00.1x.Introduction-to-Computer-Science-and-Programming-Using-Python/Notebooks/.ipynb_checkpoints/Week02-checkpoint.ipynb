{
 "cells": [
  {
   "cell_type": "markdown",
   "metadata": {},
   "source": [
    "## Problem Set 01"
   ]
  },
  {
   "cell_type": "markdown",
   "metadata": {},
   "source": [
    "### 1. COUNTING VOWELS"
   ]
  },
  {
   "cell_type": "markdown",
   "metadata": {},
   "source": [
    "Assume s is a string of lower case characters.\n",
    "\n",
    "Write a program that counts up the number of vowels contained in the string s. Valid vowels are: 'a', 'e', 'i', 'o', and 'u'. For example, if s = 'azcbobobegghakl', your program should print:\n",
    "\n",
    "                           Number of vowels: 5"
   ]
  },
  {
   "cell_type": "code",
   "execution_count": 3,
   "metadata": {
    "collapsed": false
   },
   "outputs": [
    {
     "name": "stdout",
     "output_type": "stream",
     "text": [
      "Number of vowels: 2\n"
     ]
    }
   ],
   "source": [
    "s= 'wordsmith'\n",
    "vowels = {'a','e','i','o','u'}\n",
    "count = 0\n",
    "for char in s:\n",
    "    if char in vowels:\n",
    "        count+=1\n",
    "print \"Number of vowels: \" + str(count)"
   ]
  },
  {
   "cell_type": "markdown",
   "metadata": {},
   "source": [
    "### 2. COUNTING BOBS"
   ]
  },
  {
   "cell_type": "markdown",
   "metadata": {},
   "source": [
    "Assume 's' is a string of lower case characters.\n",
    "\n",
    "Write a program that prints the number of times the string 'bob' occurs in s. For example, if s = 'azcbobobegghakl', then your program should print\n",
    "\n",
    "                        Number of times bob occurs is: 2"
   ]
  },
  {
   "cell_type": "code",
   "execution_count": 4,
   "metadata": {
    "collapsed": false
   },
   "outputs": [
    {
     "name": "stdout",
     "output_type": "stream",
     "text": [
      "2\n"
     ]
    }
   ],
   "source": [
    "s = 'azcbobobegghakl'\n",
    "pattern = 'bob'\n",
    "count =0\n",
    "for position in range(0,len(s)):\n",
    "    if s[position:position+3]==pattern:\n",
    "        count+=1\n",
    "print count"
   ]
  },
  {
   "cell_type": "markdown",
   "metadata": {},
   "source": [
    "### 3. Counting and Grouping"
   ]
  },
  {
   "cell_type": "markdown",
   "metadata": {},
   "source": [
    "A catering company has hired you to help with organizing and preparing customer's orders. You are given a list of each customer's desired items, and must write a program that will count the number of each items needed for the chefs to prepare. The items that a customer can order are: salad, hamburger, and water.\n",
    "\n",
    "Write a function called *item_order* that takes as input a string named *order*.\n",
    "The string contains only words for the items the customer can order separated by one space.\n",
    "The function returns a string that counts the number of each item and consolidates them in the following order:\n",
    "\n",
    "** salad:[# salad] hamburger:[# hambruger] water:[# water] **\n",
    "\n",
    "If an order does not contain an item, then the count for that item is 0. Notice that each item is formatted as [name of the item][a colon symbol][count of the item] and all item groups are separated by a space.\n",
    "\n",
    "For example:\n",
    "\n",
    "If order = \"salad water hamburger salad hamburger\" then the function returns \"salad:2 hamburger:2 water:1\"\n",
    "\n",
    "If order = \"hamburger water hamburger\" then the function returns \"salad:0 hamburger:2 water:1\""
   ]
  },
  {
   "cell_type": "code",
   "execution_count": 86,
   "metadata": {
    "collapsed": false
   },
   "outputs": [],
   "source": [
    "def item_order(order):\n",
    "    dishes = {'salad':0,'hamburger':0,'water':0}\n",
    "    for dish_ordered in order.split(' '):\n",
    "        if dish_ordered in dishes.keys():\n",
    "            dishes[dish_ordered] +=1\n",
    "\n",
    "    string = 'salad:' + str(dishes['salad']) + ' hamburger:' + str(dishes['hamburger']) + ' water:' + str(dishes['water'])\n",
    "    return string"
   ]
  },
  {
   "cell_type": "code",
   "execution_count": 87,
   "metadata": {
    "collapsed": false
   },
   "outputs": [
    {
     "data": {
      "text/plain": [
       "'salad:0 hamburger:2 water:1'"
      ]
     },
     "execution_count": 87,
     "metadata": {},
     "output_type": "execute_result"
    }
   ],
   "source": [
    "order = \"hamburger water hamburger\"\n",
    "item_order(order)\n"
   ]
  },
  {
   "cell_type": "markdown",
   "metadata": {},
   "source": [
    "## Problem Set 02"
   ]
  },
  {
   "cell_type": "markdown",
   "metadata": {},
   "source": [
    "#### PAYING OFF CREDIT CARD DEBT\n",
    "\n",
    "Each month, a credit card statement will come with the option for you to pay a minimum amount of your charge, usually 2% of the balance due. However, the credit card company earns money by charging interest on the balance that you don't pay. So even if you pay credit card payments on time, interest is still accruing on the outstanding balance.\n",
    "\n",
    "Say you've made a **\\$5,000** purchase on a credit card with an **18%** annual interest rate and a **2%** minimum monthly payment rate. If you only pay the minimum monthly amount for a year, how much is the remaining balance?\n",
    "\n",
    "You can think about this in the following way.\n",
    "\n",
    "At the beginning of month `0` (when the credit card statement arrives), assume you owe an amount we will call b_0 (b for balance; subscript `0` to indicate this is the balance at `month 0`).\n",
    "\n",
    "Any payment you make during that month is deducted from the balance. Let's call the payment you make in `month 0`, p_f0. Thus, your unpaid balance for month 0, $ub_0$, is equal to $b_0−p_0$.\n",
    "\n",
    "$$ ub_0=b_0 −p_0 $$\n",
    "\n",
    "At the beginning of `month 1`, the credit card company will charge you interest on your unpaid balance. So if your annual interest rate is r, then at the beginning of `month 1`, your new balance is your previous unpaid balance $ub_0$, plus the interest on this unpaid balance for the month. In algebra, this new balance would be\n",
    "\n",
    "$$ b_1=ub_0+r/12.0⋅ub_0 $$\n",
    "\n",
    "In month 1, we will make another payment, p1. That payment has to cover some of the interest costs, so it does not completely go towards paying off the original charge. The balance at the beginning of month 2, b2, can be calculated by first calculating the unpaid balance after paying p1, then by adding the interest accrued:\n",
    "\n",
    "$$ ub_1=b_1−p_1 $$\n",
    "\n",
    "$$ b2=ub_1+r/12.0⋅ub_1 $$\n",
    "\n",
    "If you choose just to pay off the minimum monthly payment each month, you will see that the compound interest will dramatically reduce your ability to lower your debt.\n",
    "\n",
    "Let's look at an example. If you've got a \\$ **5,000** balance on a credit card with **18%** annual interest rate, and the minimum monthly payment is **2%** of the current balance, we would have the following repayment schedule if you only pay the minimum payment each month:\n",
    "\n",
    "\n",
    "|Month|\tBalance|\tMinimum Payment|\tUnpaid Balance|\tInterest|\n",
    "|---|---|---|---|---|\n",
    "|0|\t5000.00|\t100 (= 5000 * 0.02)|\t4900 (= 5000 - 100)\t|73.50 (= 0.18/12.0 * 4900)\n",
    "|1|\t4973.50 (= 4900 + 73.50)|\t99.47 (= 4973.50 * 0.02)|\t4874.03 (= 4973.50 - 99.47)|\t73.11 (= 0.18/12.0 * 4874.03)|\n",
    "|2|\t4947.14 (= 4874.03 + 73.11)|\t98.94 (= 4947.14 * 0.02)|\t4848.20 (= 4947.14 - 98.94)|\t72.72 (= 0.18/12.0 * 4848.20)|\n",
    "\n",
    "\n",
    "You can see that a lot of your payment is going to cover interest, and if you work this through month 12, you will see that after a year, you will have paid \\$ **1165.63** and yet you will still owe \\$ **4691.11** on what was originally a \\$ **5000.00** debt. Pretty depressing!"
   ]
  },
  {
   "cell_type": "markdown",
   "metadata": {},
   "source": [
    "### 1. PAYING THE MINIMUM "
   ]
  },
  {
   "cell_type": "markdown",
   "metadata": {},
   "source": [
    "Write a program to calculate the credit card balance after one year if a person only pays the minimum monthly payment required by the credit card company each month."
   ]
  },
  {
   "cell_type": "code",
   "execution_count": null,
   "metadata": {
    "collapsed": true
   },
   "outputs": [],
   "source": []
  },
  {
   "cell_type": "code",
   "execution_count": null,
   "metadata": {
    "collapsed": true
   },
   "outputs": [],
   "source": [
    "def remainingBalance(balance,annualInterestRate,monthlyPaymentRate):\n",
    "    "
   ]
  },
  {
   "cell_type": "markdown",
   "metadata": {},
   "source": [
    "### 2. PAYING DEBT OFF IN A YEAR"
   ]
  },
  {
   "cell_type": "code",
   "execution_count": null,
   "metadata": {
    "collapsed": true
   },
   "outputs": [],
   "source": []
  },
  {
   "cell_type": "markdown",
   "metadata": {},
   "source": [
    "### 3. USING BISECTION SEARCH TO MAKE THE PROGRAM FASTER"
   ]
  },
  {
   "cell_type": "code",
   "execution_count": null,
   "metadata": {
    "collapsed": true
   },
   "outputs": [],
   "source": []
  }
 ],
 "metadata": {
  "kernelspec": {
   "display_name": "Python 2",
   "language": "python",
   "name": "python2"
  },
  "language_info": {
   "codemirror_mode": {
    "name": "ipython",
    "version": 2
   },
   "file_extension": ".py",
   "mimetype": "text/x-python",
   "name": "python",
   "nbconvert_exporter": "python",
   "pygments_lexer": "ipython2",
   "version": "2.7.10"
  }
 },
 "nbformat": 4,
 "nbformat_minor": 0
}
