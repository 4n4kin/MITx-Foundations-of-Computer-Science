{
 "cells": [
  {
   "cell_type": "markdown",
   "metadata": {},
   "source": [
    "##Lecture 07\n",
    "###Testing & Debugging"
   ]
  },
  {
   "cell_type": "markdown",
   "metadata": {},
   "source": [
    "Keep following points in mind:\n",
    "\n",
    "    1.Break code up\n",
    "    2.Good documnetation for contraints on the code (Helps you to structure your code)\n",
    "    3.Document assumptions behind code\n",
    "    4.Remove syntax errors before running\n",
    "    5.Have a few test cases with expected results handy"
   ]
  },
  {
   "cell_type": "code",
   "execution_count": 13,
   "metadata": {
    "collapsed": false
   },
   "outputs": [
    {
     "name": "stdout",
     "output_type": "stream",
     "text": [
      "2 is bigger.\n",
      "Both are equal.\n",
      "2 is bigger.\n",
      "0 is bigger.\n"
     ]
    }
   ],
   "source": [
    "def isBigger(x,y):\n",
    "    #Case 1\n",
    "    if x>y:\n",
    "        print str(x) + ' is bigger.'\n",
    "    if y>x:\n",
    "        print str(y) + ' is bigger.'\n",
    "    if x==y:\n",
    "        print 'Both are equal.'"
   ]
  }
 ],
 "metadata": {
  "kernelspec": {
   "display_name": "Python 2",
   "language": "python",
   "name": "python2"
  },
  "language_info": {
   "codemirror_mode": {
    "name": "ipython",
    "version": 2
   },
   "file_extension": ".py",
   "mimetype": "text/x-python",
   "name": "python",
   "nbconvert_exporter": "python",
   "pygments_lexer": "ipython2",
   "version": "2.7.6"
  }
 },
 "nbformat": 4,
 "nbformat_minor": 0
}
